{
  "nbformat": 4,
  "nbformat_minor": 0,
  "metadata": {
    "colab": {
      "provenance": []
    },
    "kernelspec": {
      "name": "python3",
      "display_name": "Python 3"
    },
    "language_info": {
      "name": "python"
    }
  },
  "cells": [
    {
      "cell_type": "code",
      "source": [
        "import pandas as pd\n",
        "from sklearn.preprocessing import LabelEncoder\n",
        "\n",
        "# Load the dataset\n",
        "file_path = \"/content/club_participation (1).csv\"\n",
        "df = pd.read_csv(file_path)\n",
        "\n",
        "# Make a copy\n",
        "df_encoded = df.copy()\n",
        "\n",
        "# Label encode the target column: 'club_participation'\n",
        "le = LabelEncoder()\n",
        "df_encoded['club_participation'] = le.fit_transform(df_encoded['club_participation'])  # yes=1, no=0\n",
        "\n",
        "# Split features and target\n",
        "X = df_encoded.drop('club_participation', axis=1)\n",
        "y = df_encoded['club_participation']\n",
        "\n",
        "# Output check\n",
        "print(\"✅ Data processed.\")\n",
        "print(\"Features shape:\", X.shape)\n",
        "print(\"Target shape:\", y.shape)\n",
        "print(X.head())\n",
        "print(y.head())\n"
      ],
      "metadata": {
        "colab": {
          "base_uri": "https://localhost:8080/"
        },
        "id": "dRUowgYpvC0J",
        "outputId": "54511a6c-3501-418c-dd5e-caed278d678b"
      },
      "execution_count": 21,
      "outputs": [
        {
          "output_type": "stream",
          "name": "stdout",
          "text": [
            "✅ Data processed.\n",
            "Features shape: (100, 2)\n",
            "Target shape: (100,)\n",
            "   interest_level  free_hours_per_week\n",
            "0               4                   17\n",
            "1               6                   12\n",
            "2               8                   19\n",
            "3               6                   19\n",
            "4               9                   17\n",
            "0    0\n",
            "1    0\n",
            "2    0\n",
            "3    1\n",
            "4    0\n",
            "Name: club_participation, dtype: int64\n"
          ]
        }
      ]
    },
    {
      "cell_type": "code",
      "source": [
        "from sklearn.model_selection import train_test_split\n",
        "from sklearn.linear_model import LogisticRegression\n",
        "from sklearn.metrics import accuracy_score, confusion_matrix, classification_report\n",
        "\n",
        "# Step 1: Train-test split (80% train, 20% test)\n",
        "X_train, X_test, y_train, y_test = train_test_split(\n",
        "    X, y, test_size=0.2, random_state=42\n",
        ")\n",
        "\n",
        "# Step 2: Initialize and train the model\n",
        "model = LogisticRegression()\n",
        "model.fit(X_train, y_train)\n",
        "\n",
        "# Step 3: Make predictions\n",
        "y_pred = model.predict(X_test)\n",
        "\n",
        "# Step 4: Evaluate performance\n",
        "print(\"✅ Model Evaluation\")\n",
        "print(\"Accuracy:\", accuracy_score(y_test, y_pred))\n",
        "print(\"\\nConfusion Matrix:\\n\", confusion_matrix(y_test, y_pred))\n",
        "print(\"\\nClassification Report:\\n\", classification_report(y_test, y_pred))\n"
      ],
      "metadata": {
        "colab": {
          "base_uri": "https://localhost:8080/"
        },
        "id": "ZwUDOXv0vIry",
        "outputId": "ff8c6288-08c0-4a84-9458-be58b8b9a19d"
      },
      "execution_count": 22,
      "outputs": [
        {
          "output_type": "stream",
          "name": "stdout",
          "text": [
            "✅ Model Evaluation\n",
            "Accuracy: 0.55\n",
            "\n",
            "Confusion Matrix:\n",
            " [[ 0  9]\n",
            " [ 0 11]]\n",
            "\n",
            "Classification Report:\n",
            "               precision    recall  f1-score   support\n",
            "\n",
            "           0       0.00      0.00      0.00         9\n",
            "           1       0.55      1.00      0.71        11\n",
            "\n",
            "    accuracy                           0.55        20\n",
            "   macro avg       0.28      0.50      0.35        20\n",
            "weighted avg       0.30      0.55      0.39        20\n",
            "\n"
          ]
        },
        {
          "output_type": "stream",
          "name": "stderr",
          "text": [
            "/usr/local/lib/python3.11/dist-packages/sklearn/metrics/_classification.py:1565: UndefinedMetricWarning: Precision is ill-defined and being set to 0.0 in labels with no predicted samples. Use `zero_division` parameter to control this behavior.\n",
            "  _warn_prf(average, modifier, f\"{metric.capitalize()} is\", len(result))\n",
            "/usr/local/lib/python3.11/dist-packages/sklearn/metrics/_classification.py:1565: UndefinedMetricWarning: Precision is ill-defined and being set to 0.0 in labels with no predicted samples. Use `zero_division` parameter to control this behavior.\n",
            "  _warn_prf(average, modifier, f\"{metric.capitalize()} is\", len(result))\n",
            "/usr/local/lib/python3.11/dist-packages/sklearn/metrics/_classification.py:1565: UndefinedMetricWarning: Precision is ill-defined and being set to 0.0 in labels with no predicted samples. Use `zero_division` parameter to control this behavior.\n",
            "  _warn_prf(average, modifier, f\"{metric.capitalize()} is\", len(result))\n"
          ]
        }
      ]
    },
    {
      "cell_type": "code",
      "source": [
        "# Example student data as a DataFrame (with correct column names)\n",
        "new_student = pd.DataFrame([[7, 10]], columns=X.columns)\n",
        "\n",
        "# Predict using the trained model\n",
        "prediction = model.predict(new_student)\n",
        "probability = model.predict_proba(new_student)\n",
        "\n",
        "# Output result\n",
        "result = \"Yes\" if prediction[0] == 1 else \"No\"\n",
        "print(f\"🎓 Will the student join a club? → {result}\")\n",
        "print(f\"📊 Prediction Probability: Yes = {probability[0][1]:.2f}, No = {probability[0][0]:.2f}\")\n"
      ],
      "metadata": {
        "colab": {
          "base_uri": "https://localhost:8080/"
        },
        "id": "_GFxlRWOvOlc",
        "outputId": "d6b8920b-a85d-4786-dd0d-181ec8ccca77"
      },
      "execution_count": 25,
      "outputs": [
        {
          "output_type": "stream",
          "name": "stdout",
          "text": [
            "🎓 Will the student join a club? → Yes\n",
            "📊 Prediction Probability: Yes = 0.59, No = 0.41\n"
          ]
        }
      ]
    },
    {
      "cell_type": "code",
      "source": [
        "import matplotlib.pyplot as plt\n",
        "import seaborn as sns\n",
        "from sklearn.metrics import confusion_matrix\n",
        "\n",
        "# Step 1: Generate confusion matrix\n",
        "cm = confusion_matrix(y_test, y_pred)\n",
        "\n",
        "# Step 2: Plot confusion matrix\n",
        "plt.figure(figsize=(6, 4))\n",
        "sns.heatmap(cm, annot=True, fmt='d', cmap='Blues', xticklabels=['No', 'Yes'], yticklabels=['No', 'Yes'])\n",
        "plt.title(\"Confusion Matrix\")\n",
        "plt.xlabel(\"Predicted\")\n",
        "plt.ylabel(\"Actual\")\n",
        "plt.show()\n",
        "\n"
      ],
      "metadata": {
        "colab": {
          "base_uri": "https://localhost:8080/",
          "height": 410
        },
        "id": "CRp7Q45UvX8v",
        "outputId": "98e6c579-dbf4-4562-bb2c-dd15eef07f26"
      },
      "execution_count": 27,
      "outputs": [
        {
          "output_type": "display_data",
          "data": {
            "text/plain": [
              "<Figure size 600x400 with 2 Axes>"
            ],
            "image/png": "[encoded data removed]"
          },
          "metadata": {}
        }
      ]
    },
    {
      "cell_type": "code",
      "source": [],
      "metadata": {
        "id": "07FafwrXvcc6"
      },
      "execution_count": null,
      "outputs": []
    }
  ]
}